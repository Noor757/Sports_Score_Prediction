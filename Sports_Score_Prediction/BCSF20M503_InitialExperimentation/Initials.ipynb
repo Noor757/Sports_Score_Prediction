{
 "cells": [
  {
   "cell_type": "code",
   "execution_count": 111,
   "metadata": {},
   "outputs": [],
   "source": [
    "#Select and Prepare dataset"
   ]
  },
  {
   "cell_type": "code",
   "execution_count": 123,
   "metadata": {},
   "outputs": [],
   "source": [
    "#importing the necessary libraries\n",
    "import numpy as np\n",
    "import pandas as pd\n",
    "import matplotlib.pyplot as plt\n",
    "import seaborn as sns\n",
    "import sklearn "
   ]
  },
  {
   "cell_type": "code",
   "execution_count": 124,
   "metadata": {},
   "outputs": [
    {
     "name": "stdout",
     "output_type": "stream",
     "text": [
      "Total number of Example Points: 296\n",
      "Total number of features: 10\n"
     ]
    }
   ],
   "source": [
    "#loading the data using pandas library into a data variable\n",
    "data_Frame = pd.read_csv('dataset1_test.csv')\n",
    "no_of_examplePoints = data_Frame.shape[0]   #no of rows\n",
    "no_of_features = data_Frame.shape[1]        #no of cols\n",
    "print(\"Total number of Example Points:\", no_of_examplePoints)\n",
    "print(\"Total number of features:\", no_of_features)"
   ]
  },
  {
   "cell_type": "code",
   "execution_count": 125,
   "metadata": {},
   "outputs": [
    {
     "name": "stdout",
     "output_type": "stream",
     "text": [
      "Shape of X: (296, 9)\n",
      "Shape of y: (296,)\n"
     ]
    }
   ],
   "source": [
    "X = data_Frame.drop('Runs', axis=1)  # Dropping the 'Runs' column to create the input features\n",
    "y = data_Frame['Runs']  # Assigning the 'Runs' column as the target variable\n",
    "# Printing the shapes of X and y\n",
    "print(\"Shape of X:\", X.shape)\n",
    "print(\"Shape of y:\", y.shape)"
   ]
  },
  {
   "cell_type": "code",
   "execution_count": 126,
   "metadata": {},
   "outputs": [
    {
     "data": {
      "text/html": [
       "<div>\n",
       "<style scoped>\n",
       "    .dataframe tbody tr th:only-of-type {\n",
       "        vertical-align: middle;\n",
       "    }\n",
       "\n",
       "    .dataframe tbody tr th {\n",
       "        vertical-align: top;\n",
       "    }\n",
       "\n",
       "    .dataframe thead th {\n",
       "        text-align: right;\n",
       "    }\n",
       "</style>\n",
       "<table border=\"1\" class=\"dataframe\">\n",
       "  <thead>\n",
       "    <tr style=\"text-align: right;\">\n",
       "      <th></th>\n",
       "      <th>Batsman</th>\n",
       "      <th>Runs</th>\n",
       "      <th>Mins</th>\n",
       "      <th>BF</th>\n",
       "      <th>4s</th>\n",
       "      <th>6s</th>\n",
       "      <th>SR</th>\n",
       "      <th>Pos</th>\n",
       "      <th>Dismissal</th>\n",
       "      <th>Inns</th>\n",
       "    </tr>\n",
       "  </thead>\n",
       "  <tbody>\n",
       "    <tr>\n",
       "      <th>0</th>\n",
       "      <td>1</td>\n",
       "      <td>33</td>\n",
       "      <td>78.0</td>\n",
       "      <td>56</td>\n",
       "      <td>5</td>\n",
       "      <td>0</td>\n",
       "      <td>58.92</td>\n",
       "      <td>3</td>\n",
       "      <td>caught</td>\n",
       "      <td>2</td>\n",
       "    </tr>\n",
       "    <tr>\n",
       "      <th>1</th>\n",
       "      <td>1</td>\n",
       "      <td>33</td>\n",
       "      <td>77.0</td>\n",
       "      <td>49</td>\n",
       "      <td>6</td>\n",
       "      <td>0</td>\n",
       "      <td>67.34</td>\n",
       "      <td>3</td>\n",
       "      <td>caught</td>\n",
       "      <td>4</td>\n",
       "    </tr>\n",
       "    <tr>\n",
       "      <th>2</th>\n",
       "      <td>1</td>\n",
       "      <td>215</td>\n",
       "      <td>503.0</td>\n",
       "      <td>346</td>\n",
       "      <td>25</td>\n",
       "      <td>1</td>\n",
       "      <td>62.13</td>\n",
       "      <td>3</td>\n",
       "      <td>lbw</td>\n",
       "      <td>1</td>\n",
       "    </tr>\n",
       "    <tr>\n",
       "      <th>3</th>\n",
       "      <td>1</td>\n",
       "      <td>58</td>\n",
       "      <td>67.0</td>\n",
       "      <td>48</td>\n",
       "      <td>9</td>\n",
       "      <td>0</td>\n",
       "      <td>120.83</td>\n",
       "      <td>3</td>\n",
       "      <td>bowled</td>\n",
       "      <td>3</td>\n",
       "    </tr>\n",
       "    <tr>\n",
       "      <th>4</th>\n",
       "      <td>1</td>\n",
       "      <td>7</td>\n",
       "      <td>26.0</td>\n",
       "      <td>18</td>\n",
       "      <td>1</td>\n",
       "      <td>0</td>\n",
       "      <td>38.88</td>\n",
       "      <td>3</td>\n",
       "      <td>caught</td>\n",
       "      <td>1</td>\n",
       "    </tr>\n",
       "  </tbody>\n",
       "</table>\n",
       "</div>"
      ],
      "text/plain": [
       "   Batsman  Runs   Mins   BF  4s  6s      SR  Pos Dismissal  Inns\n",
       "0        1    33   78.0   56   5   0   58.92    3    caught     2\n",
       "1        1    33   77.0   49   6   0   67.34    3    caught     4\n",
       "2        1   215  503.0  346  25   1   62.13    3       lbw     1\n",
       "3        1    58   67.0   48   9   0  120.83    3    bowled     3\n",
       "4        1     7   26.0   18   1   0   38.88    3    caught     1"
      ]
     },
     "execution_count": 126,
     "metadata": {},
     "output_type": "execute_result"
    }
   ],
   "source": [
    "data_Frame.head()  #first 5 rows of data"
   ]
  },
  {
   "cell_type": "code",
   "execution_count": 127,
   "metadata": {},
   "outputs": [
    {
     "name": "stdout",
     "output_type": "stream",
     "text": [
      "Mins    4\n",
      "dtype: int64\n",
      "Batsman      0\n",
      "Runs         0\n",
      "Mins         0\n",
      "BF           0\n",
      "4s           0\n",
      "6s           0\n",
      "SR           0\n",
      "Pos          0\n",
      "Dismissal    0\n",
      "Inns         0\n",
      "dtype: int64\n"
     ]
    }
   ],
   "source": [
    "#data Preprocessing  ( Checking Null_Values)\n",
    "# Checking for null values\n",
    "null_values = data_Frame.isnull().sum()\n",
    "# Displaying columns with null values\n",
    "print(null_values[null_values > 0])\n",
    "# Replacing null values in 'Minutes' column with a specific value\n",
    "specific_value = data_Frame['Mins'].mean()  # Replace with the desired value\n",
    "data_Frame['Mins'].fillna(specific_value, inplace=True)\n",
    "# Verifying if null values have been replaced\n",
    "print(data_Frame.isnull().sum())"
   ]
  },
  {
   "cell_type": "code",
   "execution_count": 128,
   "metadata": {},
   "outputs": [
    {
     "data": {
      "image/png": "[encoded data removed]",
      "text/plain": [
       "<Figure size 432x288 with 1 Axes>"
      ]
     },
     "metadata": {
      "needs_background": "light"
     },
     "output_type": "display_data"
    },
    {
     "data": {
      "image/png": "[encoded data removed]",
      "text/plain": [
       "<Figure size 432x288 with 1 Axes>"
      ]
     },
     "metadata": {
      "needs_background": "light"
     },
     "output_type": "display_data"
    },
    {
     "data": {
      "image/png": "[encoded data removed]",
      "text/plain": [
       "<Figure size 432x288 with 1 Axes>"
      ]
     },
     "metadata": {
      "needs_background": "light"
     },
     "output_type": "display_data"
    },
    {
     "data": {
      "image/png": "[encoded data removed]",
      "text/plain": [
       "<Figure size 432x288 with 1 Axes>"
      ]
     },
     "metadata": {
      "needs_background": "light"
     },
     "output_type": "display_data"
    },
    {
     "data": {
      "image/png": "[encoded data removed]",
      "text/plain": [
       "<Figure size 432x288 with 1 Axes>"
      ]
     },
     "metadata": {
      "needs_background": "light"
     },
     "output_type": "display_data"
    },
    {
     "data": {
      "image/png": "[encoded data removed]",
      "text/plain": [
       "<Figure size 432x288 with 1 Axes>"
      ]
     },
     "metadata": {
      "needs_background": "light"
     },
     "output_type": "display_data"
    },
    {
     "data": {
      "image/png": "[encoded data removed]",
      "text/plain": [
       "<Figure size 432x288 with 1 Axes>"
      ]
     },
     "metadata": {
      "needs_background": "light"
     },
     "output_type": "display_data"
    },
    {
     "data": {
      "image/png": "[encoded data removed]",
      "text/plain": [
       "<Figure size 432x288 with 1 Axes>"
      ]
     },
     "metadata": {
      "needs_background": "light"
     },
     "output_type": "display_data"
    }
   ],
   "source": [
    "#data Preprocessing ( Checking Outliers)\n",
    "# Create boxplots for each input feature\n",
    "for feature in X.columns:\n",
    "    if feature != 'Dismissal':\n",
    "        plt.figure()\n",
    "        plt.boxplot(X[feature])\n",
    "        plt.title(feature)\n",
    "        plt.show()\n"
   ]
  },
  {
   "cell_type": "code",
   "execution_count": 120,
   "metadata": {},
   "outputs": [],
   "source": [
    "#Defining the function to remove outliers using IQR method\n",
    "def remove_outliers_iqr(data, threshold=1.5):\n",
    "    #Calculating the first quartile (Q1) and third quartile (Q3)\n",
    "    q1 = data.quantile(0.25)\n",
    "    q3 = data.quantile(0.75)\n",
    "    #Calculating the IQR (Interquartile Range)\n",
    "    iqr = q3 - q1\n",
    "    #Defining the lower and upper bounds for outlier detection\n",
    "    lower_bound = q1 - (threshold * iqr)\n",
    "    upper_bound = q3 + (threshold * iqr)\n",
    "    #Removing the outliers from the data\n",
    "    data_clean = data[(data >= lower_bound) & (data <= upper_bound)]\n",
    "    return data_clean\n",
    "#Listing of features with outliers\n",
    "features_with_outliers = ['BF', '4s', '6s', 'SR']\n",
    "#Creating a copy of the DataFrame\n",
    "cleaned_df = data_Frame.copy()\n",
    "#Removing outliers for each feature\n",
    "for feature in features_with_outliers:\n",
    "    cleaned_df[feature] = remove_outliers_iqr(cleaned_df[feature])\n",
    "# Save the cleansed dataset to a new CSV file\n",
    "cleaned_df.to_csv('cleansed_dataset.csv', index=False)"
   ]
  },
  {
   "cell_type": "code",
   "execution_count": null,
   "metadata": {},
   "outputs": [],
   "source": []
  }
 ],
 "metadata": {
  "kernelspec": {
   "display_name": "Python 3",
   "language": "python",
   "name": "python3"
  },
  "language_info": {
   "codemirror_mode": {
    "name": "ipython",
    "version": 3
   },
   "file_extension": ".py",
   "mimetype": "text/x-python",
   "name": "python",
   "nbconvert_exporter": "python",
   "pygments_lexer": "ipython3",
   "version": "3.8.5"
  }
 },
 "nbformat": 4,
 "nbformat_minor": 4
}
